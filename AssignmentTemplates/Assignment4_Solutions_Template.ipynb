{
 "cells": [
  {
   "cell_type": "markdown",
   "metadata": {},
   "source": [
    "# Assignment 4 Solutions\n",
    "\n",
    "In performing a two-sample t-test, there are two distinct situations to consider:\n",
    "\n",
    "1.  The variances of the two samples are equal to one another (i.e. we are sampling from the same population).\n",
    "2.  The variances of the two samples are not equal to one another (i.e. we are sampling from two different populations).\n",
    "\n",
    "For this assignment, the textbook assumes always that situation 2 is the case!!!!!\n",
    "\n",
    "In these instances, we calculate the standard error in the mean (SEM) and the combined number of degrees of freedom as follows:\n",
    "\n",
    "$SEM = \\sqrt{\\frac{s_1^2}{n_1} + \\frac{s_2^2}{n_2}}$\n",
    "\n",
    "$df = \\frac{ \\left( \\frac{s_1^2}{n_1} + \\frac{s_2^2}{n_2}    \\right)^2 }{\\frac{ \\left(\\frac{s_1^2}{n_1}\\right)^2   }{n_1-1} + \\frac{ \\left(\\frac{s_2^2}{n_2}\\right)^2   }{n_2-1}}$"
   ]
  },
  {
   "cell_type": "code",
   "execution_count": 3,
   "metadata": {},
   "outputs": [],
   "source": [
    "import numpy as np\n",
    "import scipy.stats as stats\n",
    "import matplotlib.pyplot as plt\n",
    "\n",
    "def sem_neq(n1,n2,s1,s2):\n",
    "    sm = np.sqrt(s1**2/n1+s2**2/n2)\n",
    "    return float(sm)\n",
    "\n",
    "def ndof_neq(n1,n2,s1,s2):\n",
    "    v1 = s1**2/n1\n",
    "    v2 = s2**2/n2\n",
    "    dof = (v1+v2)**2/(v1**2/(n1-1)+v2**2/(n2-1))\n",
    "    return int(dof)\n",
    "\n",
    "def sem_eq(n1,n2,s1,s2):\n",
    "    sp = np.sqrt(((n1-1)*s1**2+(n2-1)*s2**2)/(n1+n2-2))\n",
    "    sm = sp*np.sqrt(1.0/n1+1.0/n2)\n",
    "    return float(sm)\n",
    "\n",
    "def ndof_eq(n1,n2,s1,s2):\n",
    "    dof = n2+n1-2\n",
    "    return int(dof)"
   ]
  },
  {
   "cell_type": "markdown",
   "metadata": {},
   "source": [
    "# Question 1"
   ]
  },
  {
   "cell_type": "markdown",
   "metadata": {},
   "source": [
    "Determine the number of degrees of freedom for the two-sample t test or CI in each of the following situations. \n",
    "(Exact integer answers required.)\n",
    "\n",
    "(a) m = 10, n = 13, s1 = 4.8, s2 = 5.7\n",
    "\n",
    "\n",
    "(b) m = 14, n = 23, s1 = 5.1, s2 = 5.8\n",
    "\n",
    "\n",
    "(c) m = 6, n = 7, s1 = 2.3, s2 = 6.2\n",
    "\n",
    "\n",
    "(d) m = 10, n = 23, s1 = 4.1, s2 = 6.6"
   ]
  },
  {
   "cell_type": "code",
   "execution_count": 6,
   "metadata": {},
   "outputs": [
    {
     "name": "stdout",
     "output_type": "stream",
     "text": [
      "a: 21\n",
      "b: 24\n",
      "c: 8\n",
      "d: 41\n"
     ]
    }
   ],
   "source": [
    "print(\"a:\",ndof_neq(12,12,5.5,5.9))\n",
    "print(\"b:\",ndof_neq(10,20,4.7,6.5))\n",
    "print(\"c:\",ndof_neq(11,8,1.9,5.9))\n",
    "print(\"d:\",ndof_neq(15,29,3.6,6.9))\n"
   ]
  },
  {
   "cell_type": "code",
   "execution_count": null,
   "metadata": {},
   "outputs": [],
   "source": []
  },
  {
   "cell_type": "markdown",
   "metadata": {},
   "source": [
    "# Question 2\n",
    "\n",
    "Let μ1 and μ2 denote true average densities for two different types of brick. Assuming normality of the two density distributions, test Ho: μ1 – μ2 = 0 versus Ha: μ1 – μ2 ≠ 0 using the following data: m = 6, x = 22.27, s1 = 0.156, n = 5, y = 20.22, and s2 = 0.234. (Use α = 0.05. Give ν to exact integer and t to 2 decimal places.)"
   ]
  },
  {
   "cell_type": "code",
   "execution_count": 7,
   "metadata": {},
   "outputs": [
    {
     "name": "stdout",
     "output_type": "stream",
     "text": [
      "V, T = 6.00, 7.22\n"
     ]
    }
   ],
   "source": [
    "n1 = 6\n",
    "n2 = 5\n",
    "s1 = 0.153\n",
    "s2 = 0.241\n",
    "\n",
    "xbar1 = 22.56\n",
    "xbar2 = 21.66\n",
    "\n",
    "df = ndof_neq(n1,n2,s1,s2)\n",
    "sm = sem_neq(n1,n2,s1,s2)\n",
    "\n",
    "tvalue = (xbar1-xbar2)/sm\n",
    "\n",
    "print(\"V, T = %0.2f, %0.2f\" % (df,tvalue))\n",
    "\n"
   ]
  },
  {
   "cell_type": "markdown",
   "metadata": {},
   "source": [
    "# Question 3\n",
    "\n",
    "Quantitative noninvasive techniques are needed for routinely assessing symptoms of peripheral neuropathies, such as carpal tunnel syndrome (CTS). An article reported on a test that involved sensing a tiny gap in an otherwise smooth surface by probing with a finger; this functionally resembles many work-related tactile activities, such as detecting scratches or surface defects. When finger probing was not allowed, the sample average gap detection threshold for m = 8 normal subjects was 1.8 mm, and the sample standard deviation was 0.49; for n = 12 CTS subjects, the sample mean and sample standard deviation were 2.52 and 0.85, respectively. Does this data suggest that the true average gap detection threshold for CTS subjects exceeds that for normal subjects? State and test the relevant hypotheses using a significance level of .01. (Give answers accurate to 2 decimal places.)"
   ]
  },
  {
   "cell_type": "code",
   "execution_count": 11,
   "metadata": {},
   "outputs": [
    {
     "name": "stdout",
     "output_type": "stream",
     "text": [
      "V, T = 11.00, 1.69\n",
      "P-value 0.06\n",
      "T_critical 2.72\n",
      "Fail to reject the null hypothesis ... P-value is greater than alpha\n"
     ]
    }
   ],
   "source": [
    "n1 = 9\n",
    "xbar1 = 1.78\n",
    "s1 = 0.6\n",
    "\n",
    "n2 = 8\n",
    "xbar2 = 2.44\n",
    "s2 = 0.95\n",
    "\n",
    "alpha = 0.01\n",
    "\n",
    "df = ndof_neq(n1,n2,s1,s2)\n",
    "sm = sem_neq(n1,n2,s1,s2)\n",
    "\n",
    "tvalue = abs(xbar2-xbar1)/sm\n",
    "\n",
    "print(\"V, T = %0.2f, %0.2f\" % (df,tvalue))\n",
    "\n",
    "tdist = stats.t(df)\n",
    "\n",
    "pvalue = tdist.cdf(-np.abs(tvalue))\n",
    "\n",
    "tcritical = tdist.ppf(1-alpha)\n",
    "\n",
    "print(\"P-value %0.2f\" % pvalue)\n",
    "print(\"T_critical %0.2f\" % tcritical)\n",
    "\n",
    "if (pvalue < alpha):\n",
    "    print (\"Reject the null hypothesis ... P-value is less than alpha\")\n",
    "else:\n",
    "    print (\"Fail to reject the null hypothesis ... P-value is greater than alpha\")"
   ]
  },
  {
   "cell_type": "markdown",
   "metadata": {},
   "source": [
    "\n",
    "# Question 4\n",
    "\n",
    "The slant shear test is widely accepted for evaluating the bond of resinous repair materials to concrete; it utilizes cylinder specimens made of two identical halves bonded at 30°. For 12 specimens prepared using wire-brushing, the sample mean shear strength (N/mm2) and sample standard deviation were 18.23 and 1.48, respectively, whereas for 12 hand-chiseled specimens, the corresponding values were 23.47 and 4.01. Does the true average strength appear to be different for the two methods of surface preparation? Test the relevant hypotheses using a significance level of .05. (Give ν to exact integer and t to 2 decimal places.)"
   ]
  },
  {
   "cell_type": "code",
   "execution_count": 21,
   "metadata": {},
   "outputs": [
    {
     "name": "stdout",
     "output_type": "stream",
     "text": [
      "V, T = 13.00, -4.07\n",
      "T-value = -4.067, P-value = 0.001\n",
      "P-value 0.00\n",
      "T_critical -0.00\n",
      "Reject the null hypothesis ... P-value is less than alpha\n"
     ]
    }
   ],
   "source": [
    "n1 = 12\n",
    "xbar1 = 19.6\n",
    "s1 = 1.53\n",
    "\n",
    "n2 = 12\n",
    "xbar2 = 24.76\n",
    "s2 = 4.12\n",
    "\n",
    "alpha = 0.05\n",
    "\n",
    "df = ndof_neq(n1,n2,s1,s2)\n",
    "sm = sem_neq(n1,n2,s1,s2)\n",
    "\n",
    "tvalue = (xbar1-xbar2)/sm\n",
    "print(\"V, T = %0.2f, %0.2f\" % (df,tvalue))\n",
    "\n",
    "tdist = stats.t(df)\n",
    "\n",
    "pvalue = tdist.cdf(-np.abs(tvalue))\n",
    "\n",
    "\n",
    "\n",
    "tcritical = tdist.cdf(xbar1) - tdist.cdf(xbar2)\n",
    "\n",
    "# Sometimes, we do not have the raw data, but only the summary data\n",
    "t, pVal = stats.ttest_ind_from_stats(xbar1,s1,n1,xbar2,s2,n2)\n",
    "print (\"T-value = %0.3f, P-value = %0.3f\" % (t,pVal))\n",
    "\n",
    "print(\"P-value %0.2f\" % pvalue)\n",
    "print(\"T_critical %0.2f\" % tcritical)\n",
    "\n",
    "if (pvalue < alpha):\n",
    "    print (\"Reject the null hypothesis ... P-value is less than alpha\")\n",
    "else:\n",
    "    print (\"Fail to reject the null hypothesis ... P-value is greater than alpha\")"
   ]
  },
  {
   "cell_type": "code",
   "execution_count": null,
   "metadata": {},
   "outputs": [],
   "source": [
    "-40.1"
   ]
  },
  {
   "cell_type": "markdown",
   "metadata": {},
   "source": [
    "# Question 5\n",
    "\n",
    "Consider the accompanying data on breaking load (kg/25 mm width) for various fabrics in both an unabraded condition and an abraded condition. Use the paired t test to test Ho: μD = 0 versus Ha: μD > 0 at significance level .01. (Give answers accurate to 2 decimal places.)"
   ]
  },
  {
   "cell_type": "code",
   "execution_count": 23,
   "metadata": {},
   "outputs": [
    {
     "name": "stdout",
     "output_type": "stream",
     "text": [
      "Critical t-value = 3.00\n",
      "T-value = 1.77, P-value = 0.241\n",
      "Fail to reject the null hypothesis ... P-value is greater than alpha\n"
     ]
    }
   ],
   "source": [
    "u = np.array([36.7,55.0,50.3,38.7,46.2,48.8,22.9,49.8])\n",
    "a = np.array([22.4,20.0,46.9,34.5,37.3,52.5,26.0,46.5])\n",
    "\n",
    "diff = u - a\n",
    "mu = 0\n",
    "alpha = 0.01\n",
    "\n",
    "df = len(diff)-1\n",
    "tdist = stats.t(df)\n",
    "\n",
    "tcrit = tdist.ppf(1-alpha)\n",
    "print(\"Critical t-value = %0.2f\" % tcrit)\n",
    "\n",
    "t,pVal = stats.ttest_1samp(diff,mu)\n",
    "print(\"T-value = %0.2f, P-value = %0.3f\" % (t,2*pVal))\n",
    "\n",
    "\n",
    "if (pVal < alpha):\n",
    "    print (\"Reject the null hypothesis ... P-value is less than alpha\")\n",
    "else:\n",
    "    print (\"Fail to reject the null hypothesis ... P-value is greater than alpha\")"
   ]
  },
  {
   "cell_type": "markdown",
   "metadata": {},
   "source": [
    "# Question 6\n",
    "\n",
    "Data on the modulus of elasticity obtained 1 minute after loading in a certain configuration and 4 weeks after loading for the same lumber specimens is presented here.\n",
    "\n",
    "Calculate and interpret an upper confidence bound for the true average difference between 1-minute modulus and 4-week modulus; first check the plausibility of any necessary assumptions. (Use α = 0.05. Round your answer to the nearest whole number.)\n",
    "\n",
    "The data for this question is stored in a local file called A4Q6.csv"
   ]
  },
  {
   "cell_type": "code",
   "execution_count": 53,
   "metadata": {},
   "outputs": [
    {
     "name": "stdout",
     "output_type": "stream",
     "text": [
      "xbar:2504.3125\n",
      "P=value = 0.004296\n",
      "T_crit_vals = -2.13, 2.13\n",
      "95 Percent Confidence Interval = (2216.951,2791.674)\n",
      "The data is consistent with any value of mu between 2216.951 and 2791.674, at the 95 Percent confidence level.\n",
      "Reject the null hypothesis ... P-value is less than alpha\n"
     ]
    }
   ],
   "source": [
    "diff = np.array([1190,3370,2580,2663,2850,2690,2180,1957,2210,2350,2260,3285,2880,2750,3520,1334])\n",
    "\n",
    "alpha = 0.05\n",
    "sem = stats.sem(diff)\n",
    "\n",
    "\n",
    "\n",
    "df = len(diff)-1\n",
    "tdist = stats.t(df)\n",
    "\n",
    "xbar = diff.mean()\n",
    "\n",
    "cl = 1 - 2*alpha\n",
    "c_interval = stats.t.interval(cl,df,loc=xbar,scale=sem)\n",
    "\n",
    "\n",
    "tlow = tdist.ppf(alpha/2)\n",
    "thigh = tdist.ppf(1-alpha/2)\n",
    "\n",
    "print(\"P=value = %0.6f\" %pvalue)\n",
    "print(\"T_crit_vals = %0.2f, %0.2f\" %(tlow,thigh))\n",
    "\n",
    "\n",
    "\n",
    "print (\"95 Percent Confidence Interval = (%0.3f,%0.3f)\" % c_interval)\n",
    "print (\"The data is consistent with any value of mu between %0.3f and %0.3f, at the 95 Percent confidence level.\" % c_interval)\n",
    "\n",
    "if (pvalue < alpha):\n",
    "    print (\"Reject the null hypothesis ... P-value is less than alpha\")\n",
    "else:\n",
    "    print (\"Fail to reject the null hypothesis ... P-value is greater than alpha\")\n"
   ]
  },
  {
   "cell_type": "code",
   "execution_count": null,
   "metadata": {},
   "outputs": [],
   "source": []
  },
  {
   "cell_type": "markdown",
   "metadata": {},
   "source": [
    "# Question 7\n",
    "\n",
    "Give as much information as you can about the P-value of the F test in each of the following situations. (Give answers accurate to 3 decimal places.)\n",
    "\n",
    "(a) ν1 = 5, ν2 = 10, upper-tailed test, f = 2.52\n",
    "\n",
    "(b) ν1 = 5, ν2 = 10, upper-tailed test, f = 5.64 \n",
    "\n",
    "(c) ν1 = 5, ν2 = 10, two-tailed test, f = 5.64 \n",
    "\n",
    "(d) ν1 = 5, ν2 = 10, lower-tailed test, f = 5.64\n",
    "\n",
    "(e) ν1 = 40, ν2 = 20, upper-tailed test, f = 3.86"
   ]
  },
  {
   "cell_type": "code",
   "execution_count": 39,
   "metadata": {},
   "outputs": [
    {
     "name": "stdout",
     "output_type": "stream",
     "text": [
      "Pvalue = 0.050\n"
     ]
    }
   ],
   "source": [
    "def fpvalue(fvalue,dof1,dof2,test):\n",
    "    fdist = stats.f(dof1,dof2)\n",
    "\n",
    "    if (fvalue > 1):\n",
    "        if test == \"upper\":\n",
    "            pvalue = (1-fdist.cdf(fvalue))\n",
    "        if test == \"two\":\n",
    "            pvalue = 2.0*(1-fdist.cdf(fvalue))\n",
    "        if test == \"lower\":\n",
    "            pvalue = fdist.cdf(fvalue)\n",
    "    else:\n",
    "        if test == \"upper\":\n",
    "            pvalue = fdist.cdf(fvalue)\n",
    "        if test == \"two\":\n",
    "            pvalue = 2.0*fdist.cdf(fvalue)\n",
    "        if test == \"lower\":\n",
    "            pvalue = (1-fdist.cdf(fvalue))\n",
    "\n",
    "    print (\"Pvalue = %0.3f\" % (pvalue))\n",
    "    \n",
    "    \n",
    "fval = 1.99\n",
    "dof1 = 40\n",
    "dof2 = 20\n",
    "test = \"upper\"\n",
    "\n",
    "fpvalue(fval, dof1,dof2,test)\n",
    "    \n",
    "    "
   ]
  },
  {
   "cell_type": "code",
   "execution_count": null,
   "metadata": {},
   "outputs": [],
   "source": []
  },
  {
   "cell_type": "markdown",
   "metadata": {},
   "source": [
    "# Question 8\n",
    "\n",
    "As the population ages, there is increasing concern about accident-related injuries to the elderly. An article reported on an experiment in which the maximum lean angle—the furthest a subject is able to lean and still recover in one step—was determined for both a sample of younger females (21-29 years) and a sample of older females (67-81 years). The following observations are consistent with summary data given in the article.\n",
    "\n",
    "YF:\t32,\t29,\t31,\t26,\t29,\t36,\t29,\t27,\t35,\t26\n",
    "\n",
    "OF:\t17,\t13,\t21,\t22,\t22\n",
    "\n",
    "Carry out a test at significance level .10 to see whether the population standard deviations for the two age groups are different (normal probability plots support the necessary normality assumption). (Give answer accurate to 2 decimal places.)"
   ]
  },
  {
   "cell_type": "code",
   "execution_count": 44,
   "metadata": {},
   "outputs": [
    {
     "name": "stdout",
     "output_type": "stream",
     "text": [
      "F: 0.6714975845410628\n",
      "84.85870609430714\n"
     ]
    }
   ],
   "source": [
    "yf = np.array([28,30,27,32,29,30,33,34,28,27])\n",
    "of = np.array([15,21,15,19,14])\n",
    "\n",
    "n1 = len(yf)\n",
    "n2 = len(of)\n",
    "\n",
    "dof1 = n1-1\n",
    "dof2 = n2-1\n",
    "\n",
    "s1 = yf.std(ddof=1)\n",
    "s2 = of.std(ddof=1)\n",
    "\n",
    "xbar1 = yf.mean()\n",
    "sbar2 = of.mean()\n",
    "\n",
    "fval = s1**2/s2**2\n",
    "\n",
    "print(\"F:\",fval)\n",
    "\n",
    "print (np.sqrt(7201))\n"
   ]
  },
  {
   "cell_type": "markdown",
   "metadata": {},
   "source": [
    "# Question 9"
   ]
  },
  {
   "cell_type": "code",
   "execution_count": 52,
   "metadata": {},
   "outputs": [
    {
     "name": "stdout",
     "output_type": "stream",
     "text": [
      "Critical t-value = 2.68\n",
      "T-value = 6.19, P-value = 0.000\n",
      "Reject the null hypothesis ... P-value is less than alpha\n"
     ]
    }
   ],
   "source": [
    "u = np.array([30,35,40,25,20,30,35,62,40,51,25,42,33])\n",
    "a = np.array([25,16,15,15,10,20,7,16,15,13,11,19,19])\n",
    "\n",
    "diff = u - a\n",
    "mu = 0\n",
    "alpha = 0.01\n",
    "\n",
    "df = len(diff)-1\n",
    "tdist = stats.t(df)\n",
    "\n",
    "tcrit = tdist.ppf(1-alpha)\n",
    "print(\"Critical t-value = %0.2f\" % tcrit)\n",
    "\n",
    "t,pVal = stats.ttest_1samp(diff,mu)\n",
    "print(\"T-value = %0.2f, P-value = %0.3f\" % (t,2*pVal))\n",
    "\n",
    "\n",
    "if (pVal < alpha):\n",
    "    print (\"Reject the null hypothesis ... P-value is less than alpha\")\n",
    "else:\n",
    "    print (\"Fail to reject the null hypothesis ... P-value is greater than alpha\")"
   ]
  },
  {
   "cell_type": "code",
   "execution_count": null,
   "metadata": {},
   "outputs": [],
   "source": []
  }
 ],
 "metadata": {
  "kernelspec": {
   "display_name": "Python 3",
   "language": "python",
   "name": "python3"
  },
  "language_info": {
   "codemirror_mode": {
    "name": "ipython",
    "version": 3
   },
   "file_extension": ".py",
   "mimetype": "text/x-python",
   "name": "python",
   "nbconvert_exporter": "python",
   "pygments_lexer": "ipython3",
   "version": "3.8.3"
  }
 },
 "nbformat": 4,
 "nbformat_minor": 2
}
