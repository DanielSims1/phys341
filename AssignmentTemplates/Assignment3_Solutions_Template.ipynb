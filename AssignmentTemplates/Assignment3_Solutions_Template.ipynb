{
 "cells": [
  {
   "cell_type": "markdown",
   "metadata": {},
   "source": [
    "# Assignment 3 Solutions"
   ]
  },
  {
   "cell_type": "markdown",
   "metadata": {},
   "source": [
    "# Question 1\n",
    "\n",
    "Determine the values of the following quantities. (Give answers accurate to 2 decimal places.)\n",
    "\n",
    "(a) t(.10,19)   \n",
    "\n",
    "(b) t(.05,19)      \n",
    "\n",
    "(c) t(.05,29)   \n",
    "\n",
    "(d) t(.05,50)    \n",
    "\n",
    "(e) t(.005,50)   "
   ]
  },
  {
   "cell_type": "markdown",
   "metadata": {},
   "source": [
    "The t-distribution that WebAssign uses is known as a \"one-tailed t-distribution\". Thus, the specified probability ($\\alpha$) lies in a single tail, ABOVE the upper critical t-value.  The \"answer\" that WebAssign is looking for here is the upper critical t-value (which is positive)."
   ]
  },
  {
   "cell_type": "code",
   "execution_count": 2,
   "metadata": {},
   "outputs": [
    {
     "name": "stdout",
     "output_type": "stream",
     "text": [
      "a: 1.36\n",
      "b: 1.78\n",
      "c: 1.70\n",
      "d: 1.67\n",
      "e: 2.66\n"
     ]
    }
   ],
   "source": [
    "import scipy.stats as stats\n",
    "import numpy as np\n",
    "alpha = .10\n",
    "df = 12\n",
    "T = stats.t(df)\n",
    "print (\"a: %.2f\" % T.ppf(1-alpha))\n",
    "alpha = .05\n",
    "T = stats.t(df)\n",
    "print (\"b: %.2f\" % T.ppf(1-alpha))\n",
    "df = 28\n",
    "T = stats.t(df)\n",
    "print (\"c: %.2f\" % T.ppf(1-alpha))\n",
    "df = 60\n",
    "T = stats.t(df)\n",
    "print (\"d: %.2f\" % T.ppf(1-alpha))\n",
    "alpha = .005\n",
    "T = stats.t(df)\n",
    "print (\"e: %.2f\" % T.ppf(1-alpha))\n"
   ]
  },
  {
   "cell_type": "markdown",
   "metadata": {},
   "source": [
    "# Question 2\n",
    "\n",
    "Determine the t critical value(s) that will capture the desired t-curve area in each of the following cases. (Assume that central areas are centered at t = 0. Round your answers to three decimal places.)\n",
    "\n",
    "(a) Central area = 0.95, df = 10\n",
    "\n",
    "(b) Central area = 0.95, df = 30 \n",
    "\n",
    "(c) Central area = 0.99, df = 30\n",
    "\n",
    "(d) Central area = 0.99, df = 60\n",
    "\n",
    "(e) Upper-tail area = 0.01, df = 20\n",
    "\n",
    "(f) Lower-tail area = 0.025, df = 5"
   ]
  },
  {
   "cell_type": "code",
   "execution_count": 2,
   "metadata": {},
   "outputs": [
    {
     "name": "stdout",
     "output_type": "stream",
     "text": [
      "a: 2.131\n",
      "b: 2.042\n",
      "c: 2.750\n",
      "d: 2.704\n",
      "e: 2.485\n",
      "f: -2.571\n"
     ]
    }
   ],
   "source": [
    "df = 15\n",
    "T = stats.t(df)\n",
    "central_area = .95\n",
    "alpha = 1-central_area\n",
    "print (\"a: %.3f\" % T.ppf(1-alpha/2))\n",
    "\n",
    "df = 30\n",
    "T = stats.t(df)\n",
    "print (\"b: %.3f\" % T.ppf(1-alpha/2))\n",
    "\n",
    "central_area = .99\n",
    "alpha = 1-central_area\n",
    "print (\"c: %.3f\" % T.ppf(1-alpha/2))\n",
    "\n",
    "df = 40\n",
    "T = stats.t(df)\n",
    "print (\"d: %.3f\" % T.ppf(1-alpha/2))\n",
    "\n",
    "df = 25\n",
    "T = stats.t(df)\n",
    "alpha = .01\n",
    "print (\"e: %.3f\" % T.ppf(1-alpha))\n",
    "\n",
    "df = 5\n",
    "lower_area = .025\n",
    "T = stats.t(df)\n",
    "print (\"f: %.3f\" % T.ppf(lower_area))"
   ]
  },
  {
   "cell_type": "markdown",
   "metadata": {},
   "source": [
    "# Question 3\n",
    "\n",
    "Determine the t critical value for a two-sided confidence interval in each of the following situations. (Give answers accurate to 3 decimal places.)\n",
    "\n",
    "(a) Confidence level = 95%, df = 17\n",
    "\n",
    "(b) Confidence level = 95%, df = 18\n",
    "\n",
    "(c) Confidence level = 99%, df = 18  \n",
    "\n",
    "(d) Confidence level = 99%, n = 3  \n",
    "\n",
    "(e) Confidence level = 98%, df = 38  \n",
    "\n",
    "(f) Confidence level = 99%, n = 61"
   ]
  },
  {
   "cell_type": "code",
   "execution_count": 5,
   "metadata": {},
   "outputs": [
    {
     "name": "stdout",
     "output_type": "stream",
     "text": [
      "a: 2.306\n",
      "b: 2.048\n",
      "c: 2.763\n",
      "d: 3.707\n",
      "e: 2.423\n",
      "f: 2.704\n"
     ]
    }
   ],
   "source": [
    "df = 8\n",
    "T = stats.t(df)\n",
    "\n",
    "cl = .95\n",
    "alpha = 1-cl\n",
    "print (\"a: %.3f\" % T.ppf(1-alpha/2))\n",
    "\n",
    "df = 28\n",
    "T = stats.t(df)\n",
    "print (\"b: %.3f\" % T.ppf(1-alpha/2))\n",
    "\n",
    "cl = .99\n",
    "alpha = 1-cl\n",
    "print (\"c: %.3f\" % T.ppf(1-alpha/2))\n",
    "\n",
    "n = 7\n",
    "df = n - 1\n",
    "T = stats.t(df)\n",
    "print (\"d: %.3f\" % T.ppf(1-alpha/2))\n",
    "\n",
    "df = 40\n",
    "cl = .98\n",
    "alpha = 1-cl\n",
    "T = stats.t(df)\n",
    "print (\"e: %.3f\" % T.ppf(1-alpha/2))\n",
    "\n",
    "n = 41\n",
    "df = n - 1\n",
    "cl = .99\n",
    "alpha = 1-cl\n",
    "T = stats.t(df)\n",
    "print (\"f: %.3f\" % T.ppf(1-alpha/2))\n"
   ]
  },
  {
   "cell_type": "markdown",
   "metadata": {},
   "source": [
    "# Question 4\n",
    "\n",
    "A random sample of n = 8 E-glass fiber test specimens of a certain type yielded a sample mean interfacial shear yield stress of 32.6 and a sample standard deviation of 3.3. Assuming that interfacial shear yield stress is normally distributed, compute a 95% CI for true average stress. (Give answer accurate to 2 decimal places.) "
   ]
  },
  {
   "cell_type": "code",
   "execution_count": 5,
   "metadata": {},
   "outputs": [
    {
     "name": "stdout",
     "output_type": "stream",
     "text": [
      "(26.89, 31.91)\n",
      "(26.89, 31.91)\n"
     ]
    }
   ],
   "source": [
    "n = 8\n",
    "df = n - 1\n",
    "xbar = 29.4\n",
    "s = 3.0\n",
    "cl = .95\n",
    "alpha = 1 - cl\n",
    "sem = s/np.sqrt(n)\n",
    "thigh = stats.t.ppf(1-alpha/2, df)\n",
    "tlow = stats.t.ppf(alpha/2, df)\n",
    "mulow = xbar + tlow * sem\n",
    "muhigh = xbar + thigh * sem\n",
    "# print clow, chigh\n",
    "print (\"(%.02f, %.02f)\" % (mulow, muhigh))\n",
    "#another way\n",
    "c_interval = stats.t.interval(.95, df, loc=xbar, scale=sem)\n",
    "print (\"(%.02f, %.02f)\" % c_interval) "
   ]
  },
  {
   "cell_type": "markdown",
   "metadata": {},
   "source": [
    "# Question 5\n",
    "\n",
    "A sample of 14 joint specimens of a particular type gave a sample mean proportional limit stress of 8.06 MPa and a sample standard deviation of 0.66 MPa.\n",
    "\n",
    "(a) Calculate a 95% lower confidence bound for the true average proportional limit stress of all such joints. (Give answer accurate to 2 decimal places.)\n",
    "   \n",
    "\n",
    "(b) Calculate a 95% lower prediction bound for proportional limit stress of a single joint of this type. (Give answer accurate to 2 decimal places.)\n",
    "   "
   ]
  },
  {
   "cell_type": "code",
   "execution_count": 7,
   "metadata": {},
   "outputs": [
    {
     "name": "stdout",
     "output_type": "stream",
     "text": [
      "a. (8.51, 9.09)\n",
      "b. (7.66, 9.94)\n"
     ]
    }
   ],
   "source": [
    "n = 14\n",
    "df = n - 1\n",
    "xbar = 8.80\n",
    "s = .62\n",
    "sem = s/np.sqrt(n)\n",
    "# .9 because 5% is on either side of the lower and upper bounds, so 90% is in the middle\n",
    "cl = .9\n",
    "c_interval = stats.t.interval(cl, df, loc=xbar, scale=sem)\n",
    "print (\"a. (%.02f, %.02f)\" % c_interval)\n",
    "s_future = s*np.sqrt((n+1)/n)\n",
    "c_interval = stats.t.interval(cl, df, loc=xbar, scale=s_future)\n",
    "print (\"b. (%.02f, %.02f)\" % c_interval)"
   ]
  },
  {
   "cell_type": "markdown",
   "metadata": {},
   "source": [
    "# Question 6\n",
    "\n",
    "Silicone implant augmentation rhinoplasty is used to correct congenital nose deformities. The success of the procedure depends on various biomechanical properties of the human nasal periosteum and fascia. An article reported that for a sample of 12 (newly deceased) adults, the mean failure strain (%) was 23.5, and the standard deviation was 4.3.\n",
    "\n",
    "(a) Assuming a normal distribution for failure strain, estimate true average strain in a way that conveys information about precision and reliability. (Use a 95% confidence interval. Give answer accurate to 1 decimal place.)\n",
    "\n",
    "\n",
    "(b) Predict the strain for a single adult in a way that conveys information about precision and reliability. (Use a 95% prediction interval. Give answer accurate to 1 decimal place.)\n",
    "\n",
    "How does the prediction compare to the estimate calculated in part (a)?"
   ]
  },
  {
   "cell_type": "code",
   "execution_count": 11,
   "metadata": {},
   "outputs": [
    {
     "name": "stdout",
     "output_type": "stream",
     "text": [
      "a. (23.9, 28.1)\n",
      "b. (16.8, 35.2)\n"
     ]
    }
   ],
   "source": [
    "n = 19\n",
    "xbar = 26.0\n",
    "s = 4.3\n",
    "sem = s/np.sqrt(n)\n",
    "cl = .95\n",
    "c_interval = stats.t.interval(cl, df, loc=xbar, scale=sem)\n",
    "print (\"a. (%.1f, %.1f)\" % c_interval)\n",
    "s_future = s*np.sqrt((n+1)/n)\n",
    "n = 1\n",
    "xbar = 26.0\n",
    "s = 4.3\n",
    "sem = s/np.sqrt(n)\n",
    "cl = .95\n",
    "c_interval = stats.t.interval(cl, df, loc=xbar, scale=s_future)\n",
    "print (\"b. (%.1f, %.1f)\" % c_interval)\n",
    "\n",
    "\n",
    "\n",
    "\n"
   ]
  },
  {
   "cell_type": "markdown",
   "metadata": {},
   "source": [
    "# Question 7\n",
    "Determine the following.\n",
    "(a) The 97.5th percentile of the chi-squared distribution with v = 5. (Give answer accurate to 2 decimal places.)\n",
    "\n",
    "(b) The 1th percentile of the chi-squared distribution with v = 5. (Give answer accurate to 2 decimal places.) \n",
    "\n",
    "(c) P(13.85 <= χ2 <= 42.98), where χ2 is a chi-squared rv with v = 24. (Give answer accurate to 3 decimal places.) \n",
    "\n",
    "(d) P(χ2 < 14.611 or χ2 > 44.314), where χ2 is a chi-squared rv with v = 25. (Give answer accurate to 3 decimal places.)"
   ]
  },
  {
   "cell_type": "code",
   "execution_count": 15,
   "metadata": {},
   "outputs": [
    {
     "name": "stdout",
     "output_type": "stream",
     "text": [
      "26.216967305535853\n",
      "7.2609439276700325\n",
      "0.964986356206197\n",
      "0.05500667889826927\n"
     ]
    }
   ],
   "source": [
    "df = 12\n",
    "print (stats.chi2.ppf(0.99, df))\n",
    "df = 15\n",
    "print (stats.chi2.ppf(.05, df))\n",
    "df = 21\n",
    "print (stats.chi2.cdf(35.48, df) - stats.chi2.cdf(8.9, df))\n",
    "df = 25\n",
    "print (1-(stats.chi2.cdf(37.652, df) - stats.chi2.cdf(10.520, df)))"
   ]
  },
  {
   "cell_type": "markdown",
   "metadata": {},
   "source": [
    "# Question 8\n",
    "\n",
    "The amount of lateral expansion (mils) was determined for a sample of n = 9 pulsed-power gas metal arc welds used in LNG ship containment tanks. The resulting sample standard deviation was s = 2.86 mils. Assuming normality, derive a 95% CI for σ2 and for σ. (Round your answers to two decimal places.) \n",
    "\n",
    "\n",
    "Recall the definition of $\\chi^2 = \\frac{(n-1)s^2}{\\sigma^2}$. Therefore, to find the CI for $\\sigma^2$, we can use that:\n",
    "\n",
    "$\\sigma^2 = \\frac{(n-1)s^2}{\\chi^2}$\n",
    "\n",
    "and thus use the confidence interval for $\\chi^2$."
   ]
  },
  {
   "cell_type": "code",
   "execution_count": 19,
   "metadata": {},
   "outputs": [
    {
     "name": "stdout",
     "output_type": "stream",
     "text": [
      "(1.6898691806773554, 16.012764274629326)\n",
      "3.550761069410433 33.646095597299215\n",
      "1.8843463241693212 5.800525458723478\n"
     ]
    }
   ],
   "source": [
    "n = 8\n",
    "df = n - 1\n",
    "s = 2.85\n",
    "cl = .95\n",
    "c_interval = stats.chi2.interval(cl, df)\n",
    "print (c_interval) \n",
    "#calculate variance interval\n",
    "var_high = df*s**2/c_interval[0]\n",
    "var_low = df*s**2/c_interval[1]\n",
    "print (var_low, var_high)\n",
    "#std deviation interval\n",
    "print (np.sqrt(var_low), np.sqrt(var_high))\n"
   ]
  },
  {
   "cell_type": "markdown",
   "metadata": {},
   "source": [
    "# Question 9\n",
    "\n",
    "The following observations were made on fracture toughness of a base plate of 18% nickel maraging steel (in ksi √in., given in increasing order)].\n",
    "\n",
    "68.0\t71.9\t72.6\t73.1\t73.3\t73.5\t75.5\t75.7\t75.8\t76.1\t76.2\n",
    "\n",
    "76.2\t77.0\t77.9\t78.1\t79.6\t79.6\t79.9\t80.1\t82.2\t83.7\t90.3\n",
    "\n",
    "Calculate a 99% CI for the standard deviation of the fracture toughness distribution. (Give answer accurate to 2 decimal places.) "
   ]
  },
  {
   "cell_type": "code",
   "execution_count": 3,
   "metadata": {},
   "outputs": [
    {
     "name": "stdout",
     "output_type": "stream",
     "text": [
      "77.31363636363636 4.952372731428409\n"
     ]
    }
   ],
   "source": [
    "data = np.array([69.6,71.9,72.6,73.1,73.3,73.5,75.5,75.7,75.8,76.1,76.2,76.2,77.0,77.9,78.1,79.6,79.7,79.9,80.1,82.2,83.7,93.2])\n",
    "\n",
    "print (data.mean(), data.std(ddof=1))\n",
    "\n"
   ]
  },
  {
   "cell_type": "code",
   "execution_count": 4,
   "metadata": {},
   "outputs": [
    {
     "name": "stdout",
     "output_type": "stream",
     "text": [
      "(8.033653420232733, 41.40106477141761)\n",
      "3.527095474416622 8.006937251382793\n"
     ]
    }
   ],
   "source": [
    "n = len(data)\n",
    "df = n - 1\n",
    "s = data.std(ddof=1)\n",
    "cl = .99\n",
    "c_interval = stats.chi2.interval(cl, df)\n",
    "#chi 2 interval\n",
    "print (c_interval)\n",
    "var_high = df*s**2/c_interval[0]\n",
    "var_low = df*s**2/c_interval[1]\n",
    "#std deviation interval\n",
    "print (np.sqrt(var_low), np.sqrt(var_high))\n"
   ]
  },
  {
   "cell_type": "code",
   "execution_count": null,
   "metadata": {},
   "outputs": [],
   "source": []
  },
  {
   "cell_type": "markdown",
   "metadata": {},
   "source": [
    "# Question 10\n",
    "\n",
    "On the basis of extensive tests, the yield point of a particular type of mild steel-reinforcing bar is known to be normally distributed with σ = 100. The composition of the bar has been slightly modified, but the modification is not believed to have affected either the normality or the value of σ.\n",
    "\n",
    "(a) Assuming this to be the case, if a sample of 25 modified bars resulted in a sample average yield point of 8312 lb, compute a 90% CI for the true average yield point of the modified bar. (Round to the nearest integer.)\n",
    "\n",
    "(b) How would you modify the interval in part (a) to obtain a confidence level of 92%? (Give answer accurate to 2 decimal places.)"
   ]
  },
  {
   "cell_type": "code",
   "execution_count": 10,
   "metadata": {},
   "outputs": [
    {
     "name": "stdout",
     "output_type": "stream",
     "text": [
      "z interval: (-1.64, 1.64)\n",
      "a: Confidence Interval: (8061.10, 8126.90)\n",
      "z interval: (-1.75, 1.75)\n",
      "b: Confidence Interval: (8058.99, 8129.01)\n"
     ]
    }
   ],
   "source": [
    "n = 25\n",
    "sigma = 100\n",
    "xbar = 8094\n",
    "cl = 0.9\n",
    "sem = sigma/np.sqrt(n)\n",
    "# z interval\n",
    "c_interval = stats.norm.interval(cl, loc = 0, scale = 1)\n",
    "print (\"z interval: (%.2f, %.2f)\" % c_interval)\n",
    "#confidence interval of the mean\n",
    "c_interval = stats.norm.interval(cl, loc=xbar, scale=sem)\n",
    "print (\"a: Confidence Interval: (%.2f, %.2f)\" % (c_interval))\n",
    "cl = 0.92\n",
    "#z interval\n",
    "c_interval = stats.norm.interval(cl, loc=0, scale=1)\n",
    "print (\"z interval: (%.2f, %.2f)\" % c_interval)\n",
    "#confidence interval of the mean\n",
    "c_interval = stats.norm.interval(cl, loc=xbar, scale=sem)\n",
    "print (\"b: Confidence Interval: (%.2f, %.2f)\" % (c_interval))"
   ]
  },
  {
   "cell_type": "code",
   "execution_count": null,
   "metadata": {},
   "outputs": [],
   "source": []
  }
 ],
 "metadata": {
  "kernelspec": {
   "display_name": "Python 3",
   "language": "python",
   "name": "python3"
  },
  "language_info": {
   "codemirror_mode": {
    "name": "ipython",
    "version": 3
   },
   "file_extension": ".py",
   "mimetype": "text/x-python",
   "name": "python",
   "nbconvert_exporter": "python",
   "pygments_lexer": "ipython3",
   "version": "3.8.3"
  }
 },
 "nbformat": 4,
 "nbformat_minor": 2
}
