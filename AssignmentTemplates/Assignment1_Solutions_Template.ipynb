{
 "cells": [
  {
   "cell_type": "markdown",
   "metadata": {},
   "source": [
    "# Assignment 1 Solutions"
   ]
  },
  {
   "cell_type": "code",
   "execution_count": 1,
   "metadata": {},
   "outputs": [],
   "source": [
    "# Import the required packages, \n",
    "# with their conventional names \n",
    "import matplotlib.pyplot as plt \n",
    "import numpy as np \n",
    "import scipy.stats as stats"
   ]
  },
  {
   "cell_type": "markdown",
   "metadata": {},
   "source": [
    "# Question 1:  \n",
    "\n",
    "A cat is launched from the top of the Trible library with zero initial velocity, and lands, unharmed, on the ground below time later. The height of the Trible library is measured to be (21.2 +/- 0.4) m. The time is measured to be (2.04 +/- 0.05) s.\n",
    "\n",
    "(a) What is the measured value of the acceleration due to gravity, ignoring air resistance?\n",
    "\n",
    "(b) Assuming that the uncertainties quoted above follow a uniform error distribution, what is the measured uncertainty in the acceleration due to gravity?\n",
    "\n",
    "(c) Assuming that the uncertainties quoted above follow a Gaussian error distribution, what is the measured uncertainty in the acceleration due to gravity?"
   ]
  },
  {
   "cell_type": "code",
   "execution_count": 2,
   "metadata": {},
   "outputs": [
    {
     "name": "stdout",
     "output_type": "stream",
     "text": [
      "g: 9.730384673420264\n",
      "dg: 0.6443922450806214\n",
      "UNIFORM\n",
      "g = 9.705 +/- 0.644\n",
      "GAUSSIAN\n",
      "g = 9.705 +/- 0.496\n"
     ]
    }
   ],
   "source": [
    "import numpy as np\n",
    "import matplotlib.pyplot as plt\n",
    "import scipy.stats as stats\n",
    "\n",
    "# g = 2h/t^2\n",
    "h = 21.4\n",
    "dh = 0.4\n",
    "t = 2.1\n",
    "dt = 0.05\n",
    "\n",
    "h_max = h + dh\n",
    "h_min = h - dh\n",
    "t_max = t + dt\n",
    "t_min = t - dt\n",
    "\n",
    "g_max = 2.0*h_max/t_min**2\n",
    "g_min = 2.0*h_min/t_max**2\n",
    "\n",
    "\n",
    "g = (g_min + g_max) / 2.0\n",
    "dg = (g_max - g_min) / 2\n",
    "\n",
    "print(\"g:\",g)\n",
    "print(\"dg:\",dg)\n",
    "\n",
    "dgdh = np.abs(2.0/t**2)\n",
    "dgdt = np.abs(-4.0*h/t**3)\n",
    "dg = dgdh*dh + dgdt*dt\n",
    "g = 2.0*h/t**2\n",
    "print(\"UNIFORM\")\n",
    "print (\"g = %.3f +/- %.3f\" % (g,dg))\n",
    "\n",
    "dg = np.sqrt((dgdh*dh)**2 + (dgdt*dt)**2)\n",
    "g = 2.0*h/t**2\n",
    "\n",
    "print(\"GAUSSIAN\")\n",
    "\n",
    "print (\"g = %.3f +/- %.3f\" % (g,dg))"
   ]
  },
  {
   "cell_type": "code",
   "execution_count": null,
   "metadata": {},
   "outputs": [],
   "source": []
  },
  {
   "cell_type": "code",
   "execution_count": null,
   "metadata": {},
   "outputs": [],
   "source": []
  },
  {
   "cell_type": "code",
   "execution_count": null,
   "metadata": {},
   "outputs": [],
   "source": []
  },
  {
   "cell_type": "markdown",
   "metadata": {},
   "source": [
    "# Question 2: \n",
    "\n",
    "Airlines sometimes overbook flights. Suppose that for a plane with 50 seats, 55 passengers have tickets. Define the random variable Y as the number of ticketed passengers who actually show up for the flight. The probability mass function of Y appears in the accompanying table.\n",
    "\n",
    "(a) What is the probability that the flight will accommodate all ticketed passengers who show up?\n",
    "\n",
    "(b) What is the probability that not all ticketed passengers who show up can be accommodated?\n",
    "\n",
    "(c) If you are the first person on the standby list (which means you will be the first one to get on the plane if there are any seats available after all ticketed passengers have been accommodated), what is the probability that you will be able to take the flight? \n",
    "\n",
    "What is this probability if you are the third person on the standby list?"
   ]
  },
  {
   "cell_type": "code",
   "execution_count": null,
   "metadata": {},
   "outputs": [],
   "source": []
  },
  {
   "cell_type": "code",
   "execution_count": null,
   "metadata": {},
   "outputs": [],
   "source": []
  },
  {
   "cell_type": "code",
   "execution_count": null,
   "metadata": {},
   "outputs": [],
   "source": []
  },
  {
   "cell_type": "code",
   "execution_count": null,
   "metadata": {},
   "outputs": [],
   "source": []
  },
  {
   "cell_type": "markdown",
   "metadata": {},
   "source": [
    "# Question 3: \n",
    "\n",
    "A mail-order company business has six telephone lines. Let X denote the number of lines in use at a specified time. Suppose the pmf of X is as given in the accompanying table.\n",
    "\n",
    "\n",
    "Calculate the probability of each of the following events.\n",
    "\n",
    "(a) {at most three lines are in use}\n",
    "\n",
    "(b) {fewer than three lines are in use}\n",
    "\n",
    "(c) {at least three lines are in use}\n",
    "\n",
    "(d) {between two and five lines, inclusive, are in use}\n",
    "\n",
    "(e) {between two and four lines, inclusive, are not in use}\n",
    "\n",
    "(f) {at least four lines are not in use}"
   ]
  },
  {
   "cell_type": "code",
   "execution_count": null,
   "metadata": {},
   "outputs": [],
   "source": [
    "\n"
   ]
  },
  {
   "cell_type": "code",
   "execution_count": null,
   "metadata": {},
   "outputs": [],
   "source": []
  },
  {
   "cell_type": "markdown",
   "metadata": {},
   "source": [
    "# Question 4: \n",
    "\n",
    "Compute the following binomial probabilities directly from the formula for b(x; n, p).\n",
    "\n",
    "(a) b(3; 5, 0.48)\n",
    "\n",
    "(b) b(2; 7, 0.77)\n",
    "\n",
    "(c) P(3 <= X <= 5) when n = 9 and p = 0.76\n",
    "\n",
    "(d) P(1 <= X) when n = 12 and p = 0.14"
   ]
  },
  {
   "cell_type": "code",
   "execution_count": 3,
   "metadata": {},
   "outputs": [
    {
     "name": "stdout",
     "output_type": "stream",
     "text": [
      "Answer1 0.23437500000000003\n",
      "0.04660003359375\n",
      "0.49235558400000007\n",
      "0.8482891190093439\n"
     ]
    }
   ],
   "source": [
    "# b(x;n,p) -> use pmf\n",
    "\n",
    "# 4,6,0.5\n",
    "# 2,7,0.65\n",
    "\n",
    "# P(k)\n",
    "# 3<=x<=5, n=9, p=0.6\n",
    "# 1<=x, n=8, p=0.21\n",
    "\n",
    "x = 4\n",
    "n = 6\n",
    "p = 0.5\n",
    "\n",
    "answer1 = stats.binom.pmf(x,n,p)\n",
    "print(\"Answer1\",answer1)\n",
    "\n",
    "x = 2\n",
    "n = 7\n",
    "p = 0.65\n",
    "\n",
    "answer2 = stats.binom.pmf(x,n,p)\n",
    "print(answer2)\n",
    "\n",
    "k = 5\n",
    "k2 = 2\n",
    "n = 9\n",
    "p = 0.6\n",
    "\n",
    "\n",
    "answer3 = stats.binom.cdf(k,n,p) - stats.binom.cdf(k2,n,p)\n",
    "print(answer3)\n",
    "\n",
    "n = 8\n",
    "p = 0.21\n",
    "\n",
    "answer4 = 1 - stats.binom.pmf(0,n,p)\n",
    "print(answer4)"
   ]
  },
  {
   "cell_type": "code",
   "execution_count": null,
   "metadata": {},
   "outputs": [],
   "source": []
  },
  {
   "cell_type": "code",
   "execution_count": null,
   "metadata": {},
   "outputs": [],
   "source": []
  },
  {
   "cell_type": "code",
   "execution_count": null,
   "metadata": {},
   "outputs": [],
   "source": []
  },
  {
   "cell_type": "code",
   "execution_count": null,
   "metadata": {},
   "outputs": [],
   "source": []
  },
  {
   "cell_type": "markdown",
   "metadata": {},
   "source": [
    "# Question 5:\n",
    "\n",
    "When circuit boards used in the manufacture of compact disc players are tested, the long-run percentage of defectives is 10%. Let X = the number of defective boards in a random sample of size n = 20, so X ~ Bin(20, 0.10).\n",
    "\n",
    "(a) Determine P(X <= 2).\n",
    "\n",
    "(b) Determine P(X >= 5).\n",
    "\n",
    "(c) Determine P(1 <= X <= 4).\n",
    "\n",
    "(d) What is the probability that none of the 20 boards is defective?\n",
    "\n",
    "(e) Calculate the expected value and standard deviation of X."
   ]
  },
  {
   "cell_type": "code",
   "execution_count": 49,
   "metadata": {},
   "outputs": [
    {
     "name": "stdout",
     "output_type": "stream",
     "text": [
      "0.6769268051894661\n",
      "0.04317449528446338\n",
      "0.8352488501249673\n",
      "0.12157665459056925\n",
      "2.0\n"
     ]
    }
   ],
   "source": [
    "N = 20\n",
    "\n",
    "X = stats.binom (N,0.1)\n",
    "\n",
    "print (X.cdf(2))\n",
    "\n",
    "print ( 1- X.cdf(4))\n",
    "\n",
    "print (X.cdf(4) - X.cdf(0))\n",
    "\n",
    "print (X.pmf(0))\n",
    "\n",
    "print(X.mean())\n",
    "\n"
   ]
  },
  {
   "cell_type": "code",
   "execution_count": null,
   "metadata": {},
   "outputs": [],
   "source": []
  },
  {
   "cell_type": "code",
   "execution_count": null,
   "metadata": {},
   "outputs": [],
   "source": []
  },
  {
   "cell_type": "code",
   "execution_count": null,
   "metadata": {},
   "outputs": [],
   "source": []
  },
  {
   "cell_type": "code",
   "execution_count": null,
   "metadata": {},
   "outputs": [],
   "source": []
  },
  {
   "cell_type": "code",
   "execution_count": null,
   "metadata": {},
   "outputs": [],
   "source": []
  },
  {
   "cell_type": "code",
   "execution_count": null,
   "metadata": {},
   "outputs": [],
   "source": []
  },
  {
   "cell_type": "markdown",
   "metadata": {},
   "source": [
    "# Question 6:\n",
    "\n",
    "An airport limousine can accommodate up to four passengers on any one trip. The company will accept a maximum of six reservations for a trip, and a passenger must have a reservation. From previous records, 45% of all those making reservations do not appear for the trip. Answer the following questions, assuming independence wherever appropriate.\n",
    "\n",
    "(a) If six reservations are made, what is the probability that at least one individual with a reservation cannot be accommodated on the trip?\n",
    "\n",
    "(b) If six reservations are made, what is the expected number of available places when the limousine departs?\n",
    "Your answer is incorrect.\n",
    "\n",
    "(c) Suppose the probability distribution of the number of reservations made is given in the accompanying table.\n",
    "\n",
    "Number of reservations    \t3      4\t 5\t   6\n",
    "\n",
    "Probability\t                0.11   0.25  0.34  0.30   \n",
    "\n",
    "Let X denote the number of passengers on a randomly selected trip. Obtain the probability mass function of X."
   ]
  },
  {
   "cell_type": "code",
   "execution_count": 32,
   "metadata": {},
   "outputs": [
    {
     "name": "stdout",
     "output_type": "stream",
     "text": [
      "0.16356742187500004\n"
     ]
    }
   ],
   "source": [
    "import numpy as np\n",
    "import matplotlib.pyplot as plt\n",
    "import scipy.stats as stats\n",
    "#a\n",
    "no_show = 0.45\n",
    "shows_up = 0.55\n",
    "p = shows_up\n",
    "max_revs = 6\n",
    "N = max_revs\n",
    "\n",
    "X = stats.binom(N,p)\n",
    "#probs = [(3,0.11)(4,0.25)(5,0.34)(6,0.3)]\n",
    "\n",
    "print (X.pmf(5) + X.pmf(6))\n"
   ]
  },
  {
   "cell_type": "code",
   "execution_count": 33,
   "metadata": {},
   "outputs": [
    {
     "name": "stdout",
     "output_type": "stream",
     "text": [
      "# people showing up : 0 \n",
      "expectation value 0.0332\n",
      "# people showing up : 1 \n",
      "expectation value 0.2159\n",
      "# people showing up : 2 \n",
      "expectation value 0.5880\n",
      "# people showing up : 3 \n",
      "expectation value 0.8912\n",
      "# people showing up : 4 \n",
      "expectation value 0.8912\n",
      "# people showing up : 5 \n",
      "expectation value 0.8912\n",
      "# people showing up : 6 \n",
      "expectation value 0.8912\n"
     ]
    }
   ],
   "source": [
    "npass = np.array([0,1,2,3,4,5,6])\n",
    "\n",
    "nspaces = np.array([4,3,2,1,0,0,0])\n",
    "\n",
    "sum = 0.0\n",
    "\n",
    "for i in range(len(nspaces)):\n",
    "    sum += X.pmf(i)*nspaces[i]\n",
    "    print (\"# people showing up : %0.0f \" % i)\n",
    "    \n",
    "    print(\"expectation value %0.4f\" % sum)"
   ]
  },
  {
   "cell_type": "code",
   "execution_count": 34,
   "metadata": {
    "scrolled": true
   },
   "outputs": [
    {
     "name": "stdout",
     "output_type": "stream",
     "text": [
      "0 3 0.09112499999999997 0.11\n",
      "0 4 0.04100624999999998 0.25\n",
      "0 5 0.01845281249999999 0.34\n",
      "0 6 0.008303765624999994 0.3\n",
      "1 3 0.3341249999999999 0.11\n",
      "1 4 0.20047499999999996 0.25\n",
      "1 5 0.11276718749999994 0.34\n",
      "1 6 0.06089428125 0.3\n",
      "2 3 0.40837499999999993 0.11\n",
      "2 4 0.3675375 0.25\n",
      "2 5 0.27565312499999983 0.34\n",
      "2 6 0.18606585937499992 0.3\n",
      "3 3 0.16637500000000002 0.11\n",
      "3 4 0.29947500000000005 0.25\n",
      "3 5 0.3369093749999999 0.34\n",
      "3 6 0.3032184375 0.3\n",
      "4 4 0.09150625000000001 0.25\n",
      "4 5 0.20588906249999994 0.34\n",
      "4 6 0.277950234375 0.3\n",
      "5 5 0.050328437499999996 0.34\n",
      "5 6 0.13588678125000003 0.3\n",
      "6 6 0.027680640625000006 0.3\n"
     ]
    }
   ],
   "source": [
    "pres = np.array([0.00,0.00,0.00,0.11,0.25,0.34,0.30])\n",
    "pmf = np.array([0.00,0.00,0.00,0.00,0.00,0.00,0.00])\n",
    "\n",
    "for i in range (len(npass)):\n",
    "    for nres in range(len(pres)):\n",
    "        X = stats.binom(nres,p)\n",
    "        if (X.pmf(i) != 0 and pres[nres] != 0):\n",
    "            print (i,nres,X.pmf(i),pres[nres] )\n",
    "        pmf[i] = pmf[i] + X.pmf(i) * pres[nres]\n",
    "    \n",
    "        "
   ]
  },
  {
   "cell_type": "code",
   "execution_count": 35,
   "metadata": {
    "scrolled": true
   },
   "outputs": [
    {
     "name": "stdout",
     "output_type": "stream",
     "text": [
      "0.029040398437499986\n",
      "0.14348162812499995\n",
      "0.2863474453124999\n",
      "0.29868471874999997\n",
      "0.242445809375\n"
     ]
    }
   ],
   "source": [
    "print (pmf[0])\n",
    "print (pmf[1])\n",
    "print (pmf[2])\n",
    "print (pmf[3])\n",
    "print (pmf[4] + pmf[5] + pmf[6])"
   ]
  },
  {
   "cell_type": "markdown",
   "metadata": {},
   "source": [
    "# Question 7:\n",
    "\n",
    "Let X, the number of flaws on the surface of a randomly selected boiler of a certain type, have a Poisson distribution with parameter λ = 3. Compute the following probabilities.\n",
    "\n",
    "(a) P(X ≤ 9)\n",
    "\n",
    "(b) P(X = 9)\n",
    "\n",
    "(c) P(10 ≤ X)\n",
    "\n",
    "(d) P(6 ≤ X ≤ 9)\n",
    "\n",
    "(e) P(6 < X < 9)"
   ]
  },
  {
   "cell_type": "code",
   "execution_count": 56,
   "metadata": {
    "scrolled": true
   },
   "outputs": [
    {
     "name": "stdout",
     "output_type": "stream",
     "text": [
      "0.9988975118698845\n",
      "0.002700503931560479\n",
      "0.0011024881301154865\n",
      "0.08281545390118794\n",
      "0.029705543247165234\n"
     ]
    }
   ],
   "source": [
    "# Import the required packages, \n",
    "# with their conventional names \n",
    "import matplotlib.pyplot as plt \n",
    "import numpy as np \n",
    "import scipy.stats as stats\n",
    "\n",
    "x = np.array([0,1,2,3,4,5,6,7,8,9,10])\n",
    "\n",
    "lmbda = 3\n",
    "\n",
    "p_cdf = stats.poisson.cdf\n",
    "p_pmf = stats.poisson.pmf\n",
    "\n",
    "ans1 = p_cdf(9,lmbda)\n",
    "print (ans1)\n",
    "\n",
    "ans2 = p_pmf(9,lmbda)\n",
    "print (ans2)\n",
    "\n",
    "ans3 = 1 - p_cdf(9,lmbda)\n",
    "print (ans3)\n",
    "\n",
    "ans4 = p_cdf(9,lmbda) - p_cdf(5,lmbda)\n",
    "print (ans4)\n",
    "\n",
    "ans5 = p_cdf(8,lmbda) - p_cdf(6,lmbda)\n",
    "print (ans5)\n"
   ]
  },
  {
   "cell_type": "code",
   "execution_count": null,
   "metadata": {},
   "outputs": [],
   "source": []
  },
  {
   "cell_type": "markdown",
   "metadata": {},
   "source": [
    "# Question 8\n",
    "\n",
    "Consider writing onto a computer disk and then sending it through a certifier that counts the number of missing pulses. Suppose this number X has a Poisson distribution with parameter λ = 0.19.\n",
    "\n",
    "(a) What is the probability that a disk has exactly one missing pulse?\n",
    "\n",
    "(b) What is the probability that a disk has at least two missing pulses?\n",
    "\n",
    "(c) If two disks are independently selected, what is the probability that neither contains a missing pulse?"
   ]
  },
  {
   "cell_type": "code",
   "execution_count": 12,
   "metadata": {},
   "outputs": [
    {
     "name": "stdout",
     "output_type": "stream",
     "text": [
      "0.1637461506155964\n"
     ]
    }
   ],
   "source": [
    "lmbda = 0.20\n",
    "\n",
    "prob = stats.poisson.pmf(1,lmbda)\n",
    "\n",
    "print (prob)"
   ]
  },
  {
   "cell_type": "code",
   "execution_count": 15,
   "metadata": {},
   "outputs": [
    {
     "name": "stdout",
     "output_type": "stream",
     "text": [
      "0.017523096306421793\n",
      "0.6703200460356392\n"
     ]
    }
   ],
   "source": [
    "\n",
    "print (1- stats.poisson.cdf( 1,lmbda) )\n",
    "\n",
    "print (stats.poisson.pmf(0,lmbda) **2)\n",
    "\n"
   ]
  },
  {
   "cell_type": "markdown",
   "metadata": {},
   "source": [
    "# Question 9\n",
    "\n",
    "In proof testing of circuit boards, the probability that any particular diode will fail is 0.01. Suppose a circuit board contains 150 diodes.\n",
    "\n",
    "(a) How many diodes would you expect to fail?\n",
    "\n",
    "What is the standard deviation of the number that are expected to fail?\n",
    "\n",
    "(b) What is the (approximate) probability that at least four diodes will fail on a randomly selected board? (Use binomial approximation.)\n",
    "\n",
    "(c) If five boards are shipped to a particular customer, how likely is it that at least four of them will work properly? (A board works properly only if all its diodes work.)"
   ]
  },
  {
   "cell_type": "code",
   "execution_count": 31,
   "metadata": {
    "scrolled": true
   },
   "outputs": [
    {
     "name": "stdout",
     "output_type": "stream",
     "text": [
      "1.6 1.2585706178041818\n"
     ]
    }
   ],
   "source": [
    "# a\n",
    "N = 160\n",
    "p = 0.01\n",
    "mu = N*p\n",
    "sigma = np.sqrt(mu*(1-p))\n",
    "\n",
    "X = stats.binom(N,p)\n",
    "Xp = stats.poisson(mu)\n",
    "\n",
    "\n",
    "print (mu,sigma)\n",
    "\n",
    "# Binomial gives EXACT answer\n",
    "# for b we want approximate probability\n",
    "\n",
    "\n"
   ]
  },
  {
   "cell_type": "code",
   "execution_count": 32,
   "metadata": {
    "scrolled": true
   },
   "outputs": [
    {
     "name": "stdout",
     "output_type": "stream",
     "text": [
      "0.0778415091295519\n",
      "0.07881348722971893\n"
     ]
    }
   ],
   "source": [
    "# b\n",
    "# Use binomial APPROXIMATION\n",
    "# Use poisson because probability is small (0.01)\n",
    "# x > 4 = x NOT <=3\n",
    "print (1 - X.cdf(3))\n",
    "print (1 - Xp.cdf(3))"
   ]
  },
  {
   "cell_type": "code",
   "execution_count": 33,
   "metadata": {},
   "outputs": [
    {
     "name": "stdout",
     "output_type": "stream",
     "text": [
      "0.20189651799465538\n",
      "0.006965935854259642\n"
     ]
    }
   ],
   "source": [
    "#c\n",
    "# A probability that a board works properly\n",
    "p_properly = Xp.pmf(0)\n",
    "print (p_properly)\n",
    "\n",
    "# num boards that work\n",
    "k = np.array([0,1,2,3,4,5])\n",
    "\n",
    "x_five = stats.binom(5,p_properly)\n",
    "\n",
    "p_four_of_five = 1-x_five.cdf(3)\n",
    "print ( p_four_of_five)"
   ]
  },
  {
   "cell_type": "code",
   "execution_count": null,
   "metadata": {},
   "outputs": [],
   "source": []
  },
  {
   "cell_type": "code",
   "execution_count": null,
   "metadata": {},
   "outputs": [],
   "source": []
  },
  {
   "cell_type": "code",
   "execution_count": null,
   "metadata": {},
   "outputs": [],
   "source": []
  },
  {
   "cell_type": "code",
   "execution_count": null,
   "metadata": {},
   "outputs": [],
   "source": []
  }
 ],
 "metadata": {
  "kernelspec": {
   "display_name": "Python 3",
   "language": "python",
   "name": "python3"
  },
  "language_info": {
   "codemirror_mode": {
    "name": "ipython",
    "version": 3
   },
   "file_extension": ".py",
   "mimetype": "text/x-python",
   "name": "python",
   "nbconvert_exporter": "python",
   "pygments_lexer": "ipython3",
   "version": "3.8.3"
  }
 },
 "nbformat": 4,
 "nbformat_minor": 2
}
