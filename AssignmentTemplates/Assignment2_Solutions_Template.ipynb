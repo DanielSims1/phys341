{
 "cells": [
  {
   "cell_type": "markdown",
   "metadata": {},
   "source": [
    "# Assignment 2 Solutions"
   ]
  },
  {
   "cell_type": "markdown",
   "metadata": {},
   "source": [
    "# Question 1\n",
    "\n",
    "Let Z be a standard normal random variable and calculate the following probabilities, drawing pictures whenever appropriate.\n",
    "\n",
    "(a) P(0 <= Z <= 2.40)\n",
    "\n",
    "(b) P(0 <= Z <= 1)\n",
    "\n",
    "(c) P(-2.90 <= Z <= 0)\n",
    "\n",
    "(d) P(-2.90 <= Z <= 2.9)\n",
    "\n",
    "(e) P(Z <= 1.14)\n",
    "\n",
    "(f) P(-1.63 <= Z)  \n",
    "\n",
    "(g) P(-1.9 <= Z <= 2.00)\n",
    "\n",
    "(h) P(1.14 <= Z <= 2.50)\n",
    "\n",
    "(i) P(1.9 <= Z)\n",
    "\n",
    "(j) P( |Z| <= 2.50)"
   ]
  },
  {
   "cell_type": "code",
   "execution_count": 2,
   "metadata": {},
   "outputs": [
    {
     "name": "stdout",
     "output_type": "stream",
     "text": [
      "a: 0.4896\n",
      "b: 0.4772\n",
      "c: 0.4893\n",
      "d: 0.9786\n",
      "e: 0.9591\n",
      "f: 0.9319\n",
      "g: 0.8804\n",
      "h: 0.0347\n",
      "i: 0.0968\n",
      "j: 0.9876\n"
     ]
    }
   ],
   "source": [
    "import scipy.stats as stats\n",
    "# Integral between 0 and 2.4 (a)\n",
    "# cdf - cumulative distribution function = integral(-inf , v) -> c value\n",
    "\n",
    "cdf = stats.norm.cdf\n",
    "print(\"a: %.4f\" % (cdf(2.31) - cdf(0)))\n",
    "print(\"b: %.4f\" % (cdf(2) - cdf(0)))\n",
    "print(\"c: %.4f\" % (cdf(0) - cdf(-2.3)))\n",
    "print(\"d: %.4f\" % (cdf(2.3) - cdf(-2.3)))\n",
    "\n",
    "print(\"e: %.4f\" % (cdf(1.74)))\n",
    "print(\"f: %.4f\" % (1 - cdf(-1.49)))\n",
    "print(\"g: %.4f\" % (cdf(2) - cdf(-1.3)))\n",
    "print(\"h: %.4f\" % (cdf(2.5) - cdf(1.74)) )\n",
    "print(\"i: %.4f\" % (1 - cdf(1.3)) )\n",
    "\n",
    "print(\"j: %.4f\" % ( cdf(2.5) - cdf(-2.5)))\n",
    "\n",
    "\n"
   ]
  },
  {
   "cell_type": "markdown",
   "metadata": {},
   "source": [
    "# Question 2\n",
    "\n",
    "Let Z be a standard normal random variable. In each case, determine the value of the constant c that makes the probability statement correct.\n",
    "\n",
    "(a) Phi(c) = 0.9826 \n",
    "\n",
    "(b) P(0 <= Z <= c) = 0.2995\n",
    "\n",
    "(c) P(c <= Z) = 0.1251\n",
    "\n",
    "(d) P(-c <= Z <= c) = 0.6778\n",
    "\n",
    "(e) P(c <= |Z|) = 0.0135"
   ]
  },
  {
   "cell_type": "code",
   "execution_count": 45,
   "metadata": {},
   "outputs": [
    {
     "name": "stdout",
     "output_type": "stream",
     "text": [
      "a: 2.0992\n",
      "b: 0.8698\n",
      "c: 1.1198\n",
      "0.49325\n",
      "d: 2.1946\n",
      "e: 0.9918\n"
     ]
    }
   ],
   "source": [
    "Z = stats.norm(0,1)\n",
    "\n",
    "# ppf = inverse of cdf ppf(integrated probability) -> z value\n",
    "\n",
    "print(\"a: %.4f\" % ( Z.ppf(0.9821) ))\n",
    "print(\"b: %.4f\" % ( Z.ppf(0.5 + 0.3078) ))\n",
    "\n",
    "print(\"c: %.4f\" % (  Z.ppf( 1- 0.1314)))\n",
    "\n",
    "extra = 1 - 0.0135\n",
    "extra_small = extra / 2\n",
    "print(extra_small)\n",
    "\n",
    "\n",
    "print(\"d: %.4f\" % (Z.ppf (extra_small) +  Z.ppf(extra) ))\n",
    "print(\"e: %.4f\" % ( cdf(2.4) ))\n"
   ]
  },
  {
   "cell_type": "markdown",
   "metadata": {},
   "source": [
    "# Question 3\n",
    "\n",
    "If X is a normal rv with mean 80 and standard deviation 15, compute the following probabilities by standardizing.\n",
    "\n",
    "(a) P(X <= 110)\n",
    "\n",
    "(b) P(X <= 80)\n",
    "\n",
    "(c) P(50 <= X <= 120)\n",
    "\n",
    "(d) P(60 <= X)\n",
    "\n",
    "(e) P(90 <= X <= 110)\n",
    "\n",
    "(f) P( |X - 80| <= 20)\n",
    "  "
   ]
  },
  {
   "cell_type": "code",
   "execution_count": 52,
   "metadata": {},
   "outputs": [
    {
     "name": "stdout",
     "output_type": "stream",
     "text": [
      "a: 0.9772\n",
      "b: 0.5000\n",
      "c: 0.9104\n",
      "d: 0.8413\n",
      "a: 0.2417\n",
      "a: 0.6827\n"
     ]
    }
   ],
   "source": [
    "X = stats.norm (80,20)\n",
    "\n",
    "print(\"a: %.4f\" % ( X.cdf(120) ))\n",
    "print(\"b: %.4f\" % ( X.cdf(80) ))\n",
    "\n",
    "print(\"c: %.4f\" % ( X.cdf(120) - X.cdf(50) ))\n",
    "print(\"d: %.4f\" % ( 1 - X.cdf(60) ))\n",
    "print(\"a: %.4f\" % ( X.cdf(110) - X.cdf(90) ))\n",
    "print(\"a: %.4f\" % ( X.cdf(100) - X.cdf(60) ))"
   ]
  },
  {
   "cell_type": "markdown",
   "metadata": {},
   "source": [
    "# Question 4\n",
    "\n",
    "Suppose the force acting on a column that helps to support a building is normally distributed with mean 15.8 kips and standard deviation 1.33 kips. (Round your answers to four decimal places.)\n",
    "\n",
    "(a) What is the probability that the force is at most 18 kips? \n",
    "\n",
    "(b) What is the probability that the force is between 10 and 12 kips? \n",
    "\n",
    "(c) What is the probability that the force differs from 15.8 kips by at most 1.5 standard deviations?"
   ]
  },
  {
   "cell_type": "code",
   "execution_count": 53,
   "metadata": {},
   "outputs": [
    {
     "name": "stdout",
     "output_type": "stream",
     "text": [
      "a: 0.9799\n",
      "b: 0.0010\n",
      "a: 0.8664\n"
     ]
    }
   ],
   "source": [
    "mu = 15.6\n",
    "sigma = 1.17\n",
    "\n",
    "X = stats.norm(mu,sigma)\n",
    "\n",
    "print(\"a: %.4f\" % ( X.cdf(18) ))\n",
    "print(\"b: %.4f\" % ( X.cdf(12) - X.cdf(10) ))\n",
    "print(\"a: %.4f\" % ( X.cdf(mu + 1.5*sigma) - X.cdf(mu - 1.5*sigma) ))\n",
    "\n"
   ]
  },
  {
   "cell_type": "markdown",
   "metadata": {},
   "source": [
    "# Question 5\n",
    "\n",
    "There are two machines available for cutting corks intended for use in wine bottles. The first produces corks with diameters that are normally distributed with mean 3 cm and standard deviation 0.08 cm. The second machine produces corks with diameters that have a normal distribution with mean 3.04 cm and standard deviation 0.02 cm. Acceptable corks have diameters between 2.9 cm and 3.1 cm.\n",
    "\n",
    "What is the probability that the first machine produces an acceptable cork? (Round your answer to four decimal places.) \n",
    "\n",
    "What is the probability that the second machine produces an acceptable cork? (Round your answer to four decimal places.)"
   ]
  },
  {
   "cell_type": "code",
   "execution_count": 54,
   "metadata": {},
   "outputs": [
    {
     "name": "stdout",
     "output_type": "stream",
     "text": [
      "a: 0.7887\n",
      "b: 0.9987\n"
     ]
    }
   ],
   "source": [
    "X1 = stats.norm(3.00,0.08)\n",
    "X2 = stats.norm(3.04,0.02)\n",
    "\n",
    "xlow = 2.9\n",
    "xhigh = 3.1\n",
    "\n",
    "print(\"a: %.4f\" % ( X1.cdf(xhigh) - X1.cdf(xlow) ))\n",
    "\n",
    "print(\"b: %.4f\" % ( X2.cdf(xhigh) - X2.cdf(xlow) ))"
   ]
  },
  {
   "cell_type": "markdown",
   "metadata": {},
   "source": [
    "# Question 6\n",
    "\n",
    "It has been suggested that yield strength (ksi) for A36 grade steel is normally distributed with mu = 45 and σ = 4.0.\n",
    "\n",
    "(a) What is the probability that yield strength is at most 40?  \n",
    "\n",
    "What is the probability that yield strength is greater than 60?\n",
    "\n",
    "(b) What yield strength value separates the strongest 75% from the others?"
   ]
  },
  {
   "cell_type": "code",
   "execution_count": 58,
   "metadata": {},
   "outputs": [
    {
     "name": "stdout",
     "output_type": "stream",
     "text": [
      "a: 0.1870\n",
      "b: 0.0002\n",
      "c: 40.9648\n"
     ]
    }
   ],
   "source": [
    "# print(\"a: %.4f\" % ( Z.ppf(0.9826) ))\n",
    "mu = 44\n",
    "sigma = 4.5\n",
    "\n",
    "X = stats.norm(mu,sigma)\n",
    "\n",
    "print(\"a: %.4f\" % ( X.cdf(40) ))\n",
    "print(\"b: %.4f\" % ( 1 - X.cdf(60) ))\n",
    "\n",
    "print(\"c: %.4f\" % ( X.ppf(.25) ))\n",
    "#print(\"a: %.4f\" % ( X.cdf(mu + 1.5*sigma) - X.cdf(mu - 1.5*sigma) )\n",
    "\n"
   ]
  },
  {
   "cell_type": "markdown",
   "metadata": {},
   "source": [
    "# Question 7\n",
    "\n",
    "The temperature reading from a thermocouple placed in a constant-temperature medium is normally distributed with mean μ, the actual temperature of the medium, and standard deviation σ. What would the value of σ have to be to ensure that 95% of all readings are within 0.8° of μ?"
   ]
  },
  {
   "cell_type": "code",
   "execution_count": 3,
   "metadata": {},
   "outputs": [
    {
     "name": "stdout",
     "output_type": "stream",
     "text": [
      "-1.959963984540054 1.959963984540054\n"
     ]
    }
   ],
   "source": [
    "area = 0.95\n",
    "dev = 0.8\n",
    "\n",
    "rlow = stats.norm.ppf ((1 - area) / 2)\n",
    "rhigh = stats.norm.ppf(area + (1-area)/ 2)\n",
    "print(rlow,rhigh)"
   ]
  },
  {
   "cell_type": "markdown",
   "metadata": {},
   "source": [
    "$z = (\\bar{x}-\\mu)/\\sigma$\n",
    "\n",
    "Therefore,\n",
    "\n",
    "$\\sigma = (\\bar{x}-\\mu)/z$\n",
    "\n",
    "$\\sigma = \\delta_\\mu/z$"
   ]
  },
  {
   "cell_type": "code",
   "execution_count": 4,
   "metadata": {},
   "outputs": [
    {
     "name": "stdout",
     "output_type": "stream",
     "text": [
      "0.4081707655397232\n"
     ]
    }
   ],
   "source": [
    "print ( dev / rhigh)"
   ]
  },
  {
   "cell_type": "markdown",
   "metadata": {},
   "source": [
    "# Question 8\n",
    "\n",
    "Suppose that 10% of all steel shafts produced by a certain process are nonconforming but can be reworked (rather than having to be scrapped). Consider a random sample of 200 shafts, and let X denote the number among these that are nonconforming and can be reworked.\n",
    "\n",
    "(a) What is the (approximate) probability that X is at most 30?\n",
    "\n",
    "(b) What is the (approximate) probability that X is less than 30?\n",
    "\n",
    "(c) What is the (approximate) probability that X is between 15 and 25 (inclusive)?"
   ]
  },
  {
   "cell_type": "markdown",
   "metadata": {},
   "source": [
    "This question asks us to make an approximation to a process that is governed (exactly) by the binomial distribution.  The two approximations that we could considers are (a) the normal distribution, and (b) the Poisson distribution.  The normal distribution is appropriate for large N, and p $\\approx$ 0.5.  The Poission distribution is appropriate for small p or large p.  Since we have p = 0.10, we choose the Poisson distribution."
   ]
  },
  {
   "cell_type": "code",
   "execution_count": 4,
   "metadata": {},
   "outputs": [],
   "source": [
    "import numpy as np\n",
    "# difficult"
   ]
  },
  {
   "cell_type": "code",
   "execution_count": 5,
   "metadata": {},
   "outputs": [
    {
     "name": "stdout",
     "output_type": "stream",
     "text": [
      "a: 0.9865\n",
      "b: 0.9782\n",
      "c: 0.7830\n",
      "a: 0.9933\n",
      "b: 0.9874\n",
      "c: 0.8051\n"
     ]
    }
   ],
   "source": [
    "\n",
    "p = 0.10\n",
    "N = 200\n",
    "\n",
    "lmbda = N*p\n",
    "\n",
    "X = stats.poisson(lmbda)\n",
    "print (\"a: %0.4f\" % (X.cdf(30.5)))\n",
    "print (\"b: %0.4f\" % (X.cdf(29.5)))\n",
    "print (\"c: %0.4f\" % (X.cdf(25.5) - X.cdf(14.5)))\n",
    "\n",
    "\n",
    "\n",
    "\n",
    "X = stats.norm(N*p,np.sqrt(N*p*(1-p)))\n",
    "\n",
    "print (\"a: %0.4f\" % (X.cdf(30.5)))\n",
    "print (\"b: %0.4f\" % (X.cdf(29.5)))\n",
    "print (\"c: %0.4f\" % (X.cdf(25.5)-X.cdf(14.5)))\n",
    "\n"
   ]
  },
  {
   "cell_type": "code",
   "execution_count": null,
   "metadata": {},
   "outputs": [],
   "source": []
  }
 ],
 "metadata": {
  "kernelspec": {
   "display_name": "Python 3",
   "language": "python",
   "name": "python3"
  },
  "language_info": {
   "codemirror_mode": {
    "name": "ipython",
    "version": 3
   },
   "file_extension": ".py",
   "mimetype": "text/x-python",
   "name": "python",
   "nbconvert_exporter": "python",
   "pygments_lexer": "ipython3",
   "version": "3.8.3"
  }
 },
 "nbformat": 4,
 "nbformat_minor": 2
}
