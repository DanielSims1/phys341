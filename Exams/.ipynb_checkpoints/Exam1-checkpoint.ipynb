{
 "cells": [
  {
   "cell_type": "markdown",
   "metadata": {},
   "source": [
    "## Question 1: Look at A1Q1\n",
    "One of the classic methods for measuring the acceleration due to gravity to to use a simple pendulum. One measures the period, T, of the oscillations of the pendulum, which consists of mass, m, suspended from a cable of length, l. If the oscillations are small (less than a few degrees), then the period of oscillation is given by: \n",
    "T = 2 π sqrt(l/g)\n",
    ". Suppose that you hang a cat, with a mass of 3.41 +/- 0.39 kg from a cable whose length is measured to be 10.00 +/- 0.03 m. The experiment is performed, and you measure the time for 100 oscillations of the pendulum. The TOTAL time for these 100 oscillations is measured to be 622.9 +/- 0.1 s.\n",
    "\n",
    "(a) What is the average value for the period of oscillation of the pendulum?\n",
    " ? s\n",
    " \n",
    "(b) What is the uncertainty in the average value of the period of oscillation of the pendulum?\n",
    " ? s\n",
    " \n",
    "(c) What is the average value of the acceleration due to gravity, as measured in this experiment?\n",
    " ? m/s^2\n",
    " \n",
    "(d) Assuming that the uncertainties quoted above follow a uniform error distribution, what is the measured uncertainty in the acceleration due to gravity?\n",
    " ? m/s^2\n",
    "\n",
    "(e) Assuming that the uncertainties quoted above follow a Gaussian error distribution, what is the measured uncertainty in the acceleration due to gravity?\n",
    " ? m/s^2"
   ]
  },
  {
   "cell_type": "code",
   "execution_count": 53,
   "metadata": {
    "scrolled": false
   },
   "outputs": [
    {
     "name": "stdout",
     "output_type": "stream",
     "text": [
      "a: avg val T = 6.22900\n",
      "b: sig avg val T = 0.00100\n",
      "c: avg val g = 10.17473\n"
     ]
    }
   ],
   "source": [
    "# Import the required packages, \n",
    "# with their conventional names \n",
    "import matplotlib.pyplot as plt \n",
    "import numpy as np \n",
    "import scipy.stats as stats\n",
    "\n",
    "from sympy import *\n",
    "g, l, t, dg, dh, dt = symbols(\"g, l, t, dg, dh, dt\")\n",
    "\n",
    "\n",
    "# A\n",
    "m = 3.41\n",
    "m_low = 3.02\n",
    "m_high = 3.80\n",
    "m_uncer = 0.39\n",
    "\n",
    "l = 10.00\n",
    "l_low = 9.97\n",
    "l_high = 10.03\n",
    "l_uncer = 0.03\n",
    "\n",
    "t_total = 100\n",
    "\n",
    "t_time = 622.9\n",
    "t_time_high = 623.0\n",
    "t_time_high = 622.8\n",
    "t_time_uncer = 0.1\n",
    "\n",
    "\n",
    "t = t_time/t_total\n",
    "print (\"a: avg val T = %.5f\" %(t))\n",
    "\n",
    "\n",
    "# B\n",
    "\n",
    "T_sig = sqrt(t_time_uncer**2)/100\n",
    "\n",
    "print(\"b: sig avg val T = %.5f\"%T_sig)\n",
    "\n",
    "# C\n",
    "# T = 2 * np.pi * np.sqrt(l/g)\n",
    "\n",
    "g = l / (t/(2 * np.pi))**2\n",
    "g = (4*l*np.pi**2)/t**2\n",
    "print(\"c: avg val g = %.5f\"% g)\n",
    "\n",
    "\n",
    "\n",
    "# D\n",
    "\n",
    "\n",
    "#print(\" g: %0.4f\"%g)\n",
    "\n",
    "# E\n"
   ]
  },
  {
   "cell_type": "code",
   "execution_count": 57,
   "metadata": {},
   "outputs": [
    {
     "name": "stdout",
     "output_type": "stream",
     "text": [
      "g = 10.175 +/- 0.034\n",
      "g = 10.175 +/- 0.031\n"
     ]
    }
   ],
   "source": [
    "import matplotlib.pyplot as plt \n",
    "import numpy as np \n",
    "import scipy.stats as stats\n",
    "\n",
    "from sympy import *\n",
    "g, l, t, dg, dl, dt = symbols(\"g, l, t, dg, dl, dt\")\n",
    "g = (4*l*np.pi**2)/t**2\n",
    "\n",
    "g\n",
    "\n",
    "dgdl = abs(diff(g,l))\n",
    "\n",
    "dgdl\n",
    "\n",
    "dgdt = abs(diff(g,t))\n",
    "\n",
    "dgdt\n",
    "\n",
    "g = N(g.subs({l:10.00, t:6.229}))\n",
    "g\n",
    "\n",
    "dg = dgdl*dl + dgdt*dt\n",
    "dg\n",
    "\n",
    "dg = N(dg.subs({l:10.00, t:6.229, dl: 0.03, dt:0.001}))\n",
    "\n",
    "print (\"g = %0.3f +/- %.3f\" % (g,dg))\n",
    "\n",
    "\n",
    "dg = sqrt( dgdl**2*dl**2 + dgdt**2*dt**2 )\n",
    "\n",
    "dg\n",
    "\n",
    "dg = N(dg.subs({l:10.00, t:6.229, dl: 0.03, dt:0.001}))\n",
    "\n",
    "print (\"g = %0.3f +/- %.3f\" % (g,dg))"
   ]
  },
  {
   "cell_type": "markdown",
   "metadata": {},
   "source": [
    "## Question 2:   Look at A1Q5\n",
    "When circuit boards used in the manufacture of compact disc players are tested, the long-run percentage of defectives is 1%. Let X = the number of defective boards in a random sample of size n = 20, so P(X) ~ BINOMDIST(X,20,0.01,0).\n",
    "\n",
    "(a) Determine P(X <= 2).\n",
    "\n",
    "\n",
    "(b) Determine P(X >= 5).\n",
    "\n",
    "\n",
    "(c) Determine P(1 <= X <= 4).\n",
    "\n",
    "\n",
    "(d) What is the probability that none of the 20 boards is defective?\n",
    "\n",
    "\n",
    "(e) Calculate the expected value and standard deviation of X.\n",
    "\n",
    "E(X)\t= \n",
    "\n",
    "σx\t= \n"
   ]
  },
  {
   "cell_type": "code",
   "execution_count": 19,
   "metadata": {},
   "outputs": [
    {
     "name": "stdout",
     "output_type": "stream",
     "text": [
      "a: 0.9989964\n",
      "b: 0.0000014\n",
      "c: 0.1820917\n",
      "d: 0.8179069\n",
      "mean: 0.2000\n",
      "standard dev: 0.4450\n",
      "0.2 0.4449719092257398\n"
     ]
    }
   ],
   "source": [
    "binom = stats.binom\n",
    "n = 20\n",
    "p = 0.01\n",
    "\n",
    "X = binom(n,p)\n",
    "\n",
    "print (\"a: %.7f\" %X.cdf(2))\n",
    "\n",
    "print (\"b: %.7f\" %(1 - X.cdf(4)))\n",
    "\n",
    "print (\"c: %.7f\" %(X.cdf(4) - X.cdf(0)))\n",
    "\n",
    "print (\"d: %.7f\" %X.cdf(0))\n",
    "\n",
    "print (\"mean: %.4f\" %X.mean())\n",
    "print (\"standard dev: %.4f\" %X.std())\n",
    "print (n*p,np.sqrt(n*p*(1-p)))"
   ]
  },
  {
   "cell_type": "markdown",
   "metadata": {},
   "source": [
    "## Question 3: A2Q5\n",
    "There are two machines available for cutting corks intended for use in wine bottles. Measurements of 25 corks from the first machine indicates that it produces corks with diameters that are distributed with a sample mean 3.02 cm and sample standard deviation 0.07 cm. Measurements of 30 corks from the second machine reveals that it produces corks with diameters that have a distribution with sample mean 3.02 cm and sample standard deviation 0.03 cm. Acceptable corks have diameters between 2.9 cm and 3.1 cm.\n"
   ]
  },
  {
   "cell_type": "code",
   "execution_count": 59,
   "metadata": {},
   "outputs": [
    {
     "name": "stdout",
     "output_type": "stream",
     "text": [
      "a: 0.0140\n",
      "a: 0.0055\n",
      "a: 0.8302\n",
      "b: 0.9961\n"
     ]
    }
   ],
   "source": [
    "mu1 = 3.02\n",
    "lmbda1 = 0.07\n",
    "N1 = 25\n",
    "\n",
    "mu2 = 3.02\n",
    "lmbda2 = 0.03\n",
    "N2 = 30\n",
    "\n",
    "xlow = 2.9\n",
    "xhigh = 3.1\n",
    "\n",
    "\n",
    "X1 = stats.norm(mu1,lmbda1)\n",
    "X2 = stats.norm(mu2,lmbda2)\n",
    "\n",
    "# What is the uncertainty in the true mean cork diameter for the first machine? (Round your answer to four decimal places.)\n",
    "sem1 = lmbda1/np.sqrt(N1)\n",
    "print(\"a: %.4f\" % sem1)\n",
    "\n",
    "# What is the uncertainty in the true mean cork diameter for the second machine? (Round your answer to four decimal places.)\n",
    "sem2 = lmbda2/np.sqrt(N2)\n",
    "print(\"a: %.4f\" % sem2)\n",
    "\n",
    "# What is the probability that the first machine will produce an acceptable cork? (Round your answer to four decimal places.)\n",
    "\n",
    "print (\"a: %0.4f\" % (X1.cdf(xhigh)-X1.cdf(xlow)))\n",
    "\n",
    "print (\"b: %0.4f\" % (X2.cdf(xhigh)-X2.cdf(xlow)))\n",
    "\n",
    "\n",
    "\n",
    "\n",
    "#What is the probability that the second machine will produce an acceptable cork? (Round your answer to four decimal places.)\n"
   ]
  },
  {
   "cell_type": "markdown",
   "metadata": {},
   "source": [
    "## Question 4:\n",
    "Based on an extensive series of experiments carried out over many years, it has been found that the true mean survival rate (μ) for cats dropped from the Trible Library is 95%, with a standard deviation (σ) of 2%. Recent meetings of the CNU administration have resulted in a report that states that in any future experiments, the mean survival rate must be greater than 89.0%, but at the same time must not be greater than 97.0%. The rationale for these limits is unclear. It is suspected that representatives from the Faculty of Arts and Humanities were involved. You have been assigned the job of supervisor of cat dropping experiments at CNU. Your job depends on making sure these limits are not violated. As such, you need to write protocols for future experiments, and the most important thing to decide is: How many cats must be dropped in each experiment? Because your job depends on it, you decide to set the Type-I error probability, α, at 0.001. Calculate the minimum value of N that will be required for you to keep your job.\n"
   ]
  },
  {
   "cell_type": "code",
   "execution_count": 68,
   "metadata": {},
   "outputs": [
    {
     "name": "stdout",
     "output_type": "stream",
     "text": [
      "confidence:  0.9995\n",
      "Beta: 0.00005\n",
      "probability that val between bounds : 0.83999 \n"
     ]
    }
   ],
   "source": [
    "mu = 0.95\n",
    "sigma = 0.02\n",
    "\n",
    "confidence = 1 - a/2\n",
    "\n",
    "print(\"confidence:\",confidence)\n",
    "\n",
    "a = 0.001\n",
    "\n",
    "# a = uv , B = (1-u)v\n",
    "v = a/mu\n",
    "B = (1-mu) * v\n",
    "\n",
    "print (\"Beta: %0.5f\"%B)\n",
    "\n",
    "#mean survival rate must be between these\n",
    "# x_bar must be between these\n",
    "future_low = 0.89\n",
    "future_high = 0.97\n",
    "\n",
    "# N_min = ?\n",
    "X = stats.norm(mu,sigma)\n",
    "\n",
    "prob_pop_within_bounds = X.cdf(0.97) - X.cdf(0.89) \n",
    "\n",
    "print (\"probability that val between bounds : %.5f \"%prob_pop_within_bounds)"
   ]
  },
  {
   "cell_type": "code",
   "execution_count": null,
   "metadata": {},
   "outputs": [],
   "source": []
  }
 ],
 "metadata": {
  "kernelspec": {
   "display_name": "Python 3",
   "language": "python",
   "name": "python3"
  },
  "language_info": {
   "codemirror_mode": {
    "name": "ipython",
    "version": 3
   },
   "file_extension": ".py",
   "mimetype": "text/x-python",
   "name": "python",
   "nbconvert_exporter": "python",
   "pygments_lexer": "ipython3",
   "version": "3.8.3"
  }
 },
 "nbformat": 4,
 "nbformat_minor": 4
}
