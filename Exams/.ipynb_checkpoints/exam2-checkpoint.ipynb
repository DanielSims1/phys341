{
 "cells": [
  {
   "cell_type": "markdown",
   "metadata": {},
   "source": [
    "Determine the following.\n",
    "(a) The 99th percentile of the chi-squared distribution with v = 6. (Give answer accurate to 2 decimal places.)\n",
    "\n",
    "\n",
    "(b) The 1th percentile of the chi-squared distribution with v = 15. (Give answer accurate to 2 decimal places.)\n",
    "\n",
    "\n",
    "(c) P(17.29  χ2  38.89), where χ2 is a chi-squared rv with v = 26. (Give answer accurate to 3 decimal places.)\n",
    "\n",
    "\n",
    "(d) P(χ2 < 13.120 or χ2 > 46.928), where χ2 is a chi-squared rv with v = 25. (Give answer accurate to 3 decimal places.)\n"
   ]
  },
  {
   "cell_type": "code",
   "execution_count": 3,
   "metadata": {},
   "outputs": [
    {
     "name": "stdout",
     "output_type": "stream",
     "text": [
      "16.81\n",
      "5.23\n",
      "0.850\n",
      "0.030\n"
     ]
    }
   ],
   "source": [
    "import scipy.stats as stats\n",
    "import numpy as np\n",
    "df = 6\n",
    "print (\"%0.2f\" % (stats.chi2.ppf(0.99,df)))\n",
    "\n",
    "df = 15\n",
    "print (\"%0.2f\" % (stats.chi2.ppf(0.01,df)))\n",
    "\n",
    "df = 26\n",
    "print (\"%0.3f\" % (stats.chi2.cdf(38.89,df)-stats.chi2.cdf(17.29,df)))\n",
    "\n",
    "df = 25\n",
    "print (\"%0.3f\" % (1-(stats.chi2.cdf(46.928,df)-stats.chi2.cdf(13.120,df))))"
   ]
  },
  {
   "cell_type": "markdown",
   "metadata": {},
   "source": [
    "The amount of lateral expansion (mils) was determined for a sample of n = 5 pulsed-power gas metal arc welds used in LNG ship containment tanks. The resulting sample standard deviation was s = 2.83 mils. Assuming normality, derive a 95% CI for σ2 and for σ. (Round your answers to two decimal places.)\n",
    "CI for σ2    \t\n",
    "\n",
    " \n",
    " , \n",
    " \n",
    "\n",
    " mils2\n",
    "CI for σ    \t\n",
    "\n",
    " \n",
    " , \n",
    " \n",
    "\n",
    " mils\n"
   ]
  },
  {
   "cell_type": "code",
   "execution_count": 4,
   "metadata": {},
   "outputs": [
    {
     "name": "stdout",
     "output_type": "stream",
     "text": [
      "Chi2 Interval: (0.48, 11.14)\n",
      "Variance Interval: (2.87, 66.13)\n",
      "Std. Deviation Interval: (1.70, 8.13)\n"
     ]
    }
   ],
   "source": [
    "n = 5\n",
    "df = n - 1\n",
    "s = 2.83\n",
    "cl = 0.95\n",
    "\n",
    "c_interval = stats.chi2.interval(cl,df)\n",
    "\n",
    "print (\"Chi2 Interval: (%0.2f, %0.2f)\" % c_interval)\n",
    "print (\"sqrt chi 2 : (%0.2f, %0.2f)\" % np.sqrt(c_interval)\")\n",
    "\n",
    "var_high = df*s**2/c_interval[0]\n",
    "var_low = df*s**2/c_interval[1]\n",
    "\n",
    "print (\"Variance Interval: (%0.2f, %0.2f)\" % (var_low,var_high))\n",
    "print (\"Std. Deviation Interval: (%0.2f, %0.2f)\" % (np.sqrt(var_low),np.sqrt(var_high)))"
   ]
  },
  {
   "cell_type": "markdown",
   "metadata": {},
   "source": [
    "As the population ages, there is increasing concern about accident-related injuries to the elderly. An article reported on an experiment in which the maximum lean angle—the furthest a subject is able to lean and still recover in one step—was determined for both a sample of younger females (21-29 years) and a sample of older females (67-81 years). The following observations are consistent with summary data given in the article.\n",
    "YF:\t36,\t33,\t31,\t29,\t32,\t27,\t26,\t28,\t30,\t35\n",
    "OF:\t21,\t15,\t17,\t19,\t21\n",
    "Carry out a test at significance level .10 to see whether the population standard deviations for the two age groups are different (normal probability plots support the necessary normality assumption). (Give answer accurate to 2 decimal places.)\n",
    "f\t= \n",
    "Conclusion\n",
    "Reject the null hypothesis, there is a significant difference between the two standard deviations.\n",
    "Reject the null hypothesis, there is not a significant difference between the two standard deviations.    \n",
    "Fail to reject the null hypothesis, there is not a significant difference between the two standard deviations.\n",
    "Fail to reject the null hypothesis, there is a significant difference between the two standard deviation"
   ]
  },
  {
   "cell_type": "code",
   "execution_count": null,
   "metadata": {},
   "outputs": [],
   "source": []
  },
  {
   "cell_type": "markdown",
   "metadata": {},
   "source": [
    "In a study to assess the effects of malaria infection on mosquito hosts, mosquitos were fed on either infective or noninfective rhesus monkeys. Subsequently the distance they flew during a 24-hour period was measured using a flight mill. The mosquitos were divided into four groups of eight mosquitos each: infective rhesus and sporozites present (IRS), infective rhesus and oocysts present (IRD), infective rhesus and no infection developed (IRN), and noninfective (C). The summary data values are x1. = 4.39 (IRS), x2. = 4.52 (IRD), x3. = 5.49 (IRN), x4. = 6.36 (C), x.. = 5.19, ΣΣx2ij = 911.91. Use Tukey's procedure to identify differences in true average flight times among the four types of mosquitos. (Give answer accurate to 1 decimal place. Use 𝛼 = 0.05.)\n",
    "w = \n",
    "\n",
    "Which average flight times among the four types of mosquitos differ according to this procedure? (Select all that apply.)\n",
    "x1; x2\n",
    "x1; x3\n",
    "x1; x4\n",
    "x2; x3\n",
    "x2; x4\n",
    "x3; x4"
   ]
  },
  {
   "cell_type": "code",
   "execution_count": null,
   "metadata": {},
   "outputs": [],
   "source": []
  },
  {
   "cell_type": "markdown",
   "metadata": {},
   "source": []
  },
  {
   "cell_type": "code",
   "execution_count": null,
   "metadata": {},
   "outputs": [],
   "source": []
  },
  {
   "cell_type": "markdown",
   "metadata": {},
   "source": []
  },
  {
   "cell_type": "code",
   "execution_count": null,
   "metadata": {},
   "outputs": [],
   "source": []
  },
  {
   "cell_type": "markdown",
   "metadata": {},
   "source": []
  },
  {
   "cell_type": "code",
   "execution_count": null,
   "metadata": {},
   "outputs": [],
   "source": []
  }
 ],
 "metadata": {
  "kernelspec": {
   "display_name": "Python 3",
   "language": "python",
   "name": "python3"
  },
  "language_info": {
   "codemirror_mode": {
    "name": "ipython",
    "version": 3
   },
   "file_extension": ".py",
   "mimetype": "text/x-python",
   "name": "python",
   "nbconvert_exporter": "python",
   "pygments_lexer": "ipython3",
   "version": "3.8.3"
  }
 },
 "nbformat": 4,
 "nbformat_minor": 4
}
